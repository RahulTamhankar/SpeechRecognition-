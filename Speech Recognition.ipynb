{
 "cells": [
  {
   "cell_type": "code",
   "execution_count": 1,
   "id": "0b938651",
   "metadata": {},
   "outputs": [
    {
     "name": "stdout",
     "output_type": "stream",
     "text": [
      "Requirement already satisfied: SpeechRecognition in c:\\users\\rahul tamhankar\\anaconda3\\lib\\site-packages (3.9.0)\n",
      "Requirement already satisfied: requests>=2.26.0 in c:\\users\\rahul tamhankar\\anaconda3\\lib\\site-packages (from SpeechRecognition) (2.26.0)\n",
      "Requirement already satisfied: urllib3<1.27,>=1.21.1 in c:\\users\\rahul tamhankar\\anaconda3\\lib\\site-packages (from requests>=2.26.0->SpeechRecognition) (1.26.7)\n",
      "Requirement already satisfied: charset-normalizer~=2.0.0 in c:\\users\\rahul tamhankar\\anaconda3\\lib\\site-packages (from requests>=2.26.0->SpeechRecognition) (2.0.4)\n",
      "Requirement already satisfied: idna<4,>=2.5 in c:\\users\\rahul tamhankar\\anaconda3\\lib\\site-packages (from requests>=2.26.0->SpeechRecognition) (3.2)\n",
      "Requirement already satisfied: certifi>=2017.4.17 in c:\\users\\rahul tamhankar\\anaconda3\\lib\\site-packages (from requests>=2.26.0->SpeechRecognition) (2021.10.8)\n"
     ]
    }
   ],
   "source": [
    "!pip install SpeechRecognition "
   ]
  },
  {
   "cell_type": "code",
   "execution_count": 2,
   "id": "75ab403f",
   "metadata": {},
   "outputs": [],
   "source": [
    "# Import Speech Recogition Package\n",
    "import speech_recognition as spr"
   ]
  },
  {
   "cell_type": "code",
   "execution_count": 3,
   "id": "43fab381",
   "metadata": {},
   "outputs": [
    {
     "data": {
      "text/plain": [
       "'3.9.0'"
      ]
     },
     "execution_count": 3,
     "metadata": {},
     "output_type": "execute_result"
    }
   ],
   "source": [
    "# Validate the installation\n",
    "spr.__version__"
   ]
  },
  {
   "cell_type": "code",
   "execution_count": 6,
   "id": "0deffed3",
   "metadata": {},
   "outputs": [],
   "source": [
    "recogizer = spr.Recognizer()"
   ]
  },
  {
   "cell_type": "code",
   "execution_count": 7,
   "id": "4eb8d969",
   "metadata": {},
   "outputs": [],
   "source": [
    "obj_audiofile=spr.AudioFile('male.wav')\n",
    "with obj_audiofile as filesource:\n",
    "    audio = recogizer.record(filesource)"
   ]
  },
  {
   "cell_type": "code",
   "execution_count": 8,
   "id": "17bec65f",
   "metadata": {},
   "outputs": [
    {
     "name": "stdout",
     "output_type": "stream",
     "text": [
      "result2:\n",
      "{   'alternative': [   {   'confidence': 0.87559587,\n",
      "                           'transcript': 'what is summary decides to break it '\n",
      "                                         'be careful that you keep coverage '\n",
      "                                         'but look for places to save money is '\n",
      "                                         'taking longer to get things then the '\n",
      "                                         'bank is expected hiring the life for '\n",
      "                                         \"one's company system houses its\"},\n",
      "                       {   'transcript': 'what is summary decides to break it '\n",
      "                                         'be careful that you keep coverage '\n",
      "                                         'but look for places to save money is '\n",
      "                                         'taking longer to get things then the '\n",
      "                                         'bank is expected hiring the life for '\n",
      "                                         \"one's company system house is it\"},\n",
      "                       {   'transcript': 'what is summary decides to break it '\n",
      "                                         'be careful that you keep coverage '\n",
      "                                         'but look for places to save money is '\n",
      "                                         'taking longer to get things then the '\n",
      "                                         'bank is expected hiring the life for '\n",
      "                                         \"one's company\"},\n",
      "                       {   'transcript': 'what is summary decides to break it '\n",
      "                                         'be careful that you keep coverage '\n",
      "                                         'but look for places to save money is '\n",
      "                                         'taking longer to get things then the '\n",
      "                                         'bank is expected hiring the life for '\n",
      "                                         \"one's company system houses\"},\n",
      "                       {   'transcript': 'what is summary decides to break it '\n",
      "                                         'be careful that you keep coverage '\n",
      "                                         'but look for places to save money is '\n",
      "                                         'taking longer to get things then the '\n",
      "                                         'bank is expected hiring the life for '\n",
      "                                         \"one's company houses its\"}],\n",
      "    'final': True}\n"
     ]
    },
    {
     "data": {
      "text/plain": [
       "\"what is summary decides to break it be careful that you keep coverage but look for places to save money is taking longer to get things then the bank is expected hiring the life for one's company system houses its\""
      ]
     },
     "execution_count": 8,
     "metadata": {},
     "output_type": "execute_result"
    }
   ],
   "source": [
    "recogizer.recognize_google(audio)"
   ]
  },
  {
   "cell_type": "code",
   "execution_count": 9,
   "id": "282f0cf3",
   "metadata": {},
   "outputs": [
    {
     "name": "stdout",
     "output_type": "stream",
     "text": [
      "result2:\n",
      "{   'alternative': [   {   'confidence': 0.86982191,\n",
      "                           'transcript': \"supplies to save money it's taking \"\n",
      "                                         'longer to get things'},\n",
      "                       {   'transcript': \"supplies to save money maybe it's \"\n",
      "                                         'taking longer to get things'},\n",
      "                       {   'transcript': 'supplies to save money is taking '\n",
      "                                         'longer to get things'}],\n",
      "    'final': True}\n"
     ]
    },
    {
     "data": {
      "text/plain": [
       "\"supplies to save money it's taking longer to get things\""
      ]
     },
     "execution_count": 9,
     "metadata": {},
     "output_type": "execute_result"
    }
   ],
   "source": [
    "#Convert Speech to Text - Capture only particular segments of audio using offset and duration\n",
    "with obj_audiofile as filesource:\n",
    "    audio = recogizer.record(filesource, offset=5,duration=5)\n",
    "    \n",
    "recogizer.recognize_google(audio)"
   ]
  },
  {
   "cell_type": "code",
   "execution_count": 10,
   "id": "26ca2f69",
   "metadata": {},
   "outputs": [
    {
     "name": "stdout",
     "output_type": "stream",
     "text": [
      "Requirement already satisfied: pipwin in c:\\users\\rahul tamhankar\\anaconda3\\lib\\site-packages (0.5.2)\n",
      "Requirement already satisfied: pyprind in c:\\users\\rahul tamhankar\\anaconda3\\lib\\site-packages (from pipwin) (2.11.3)\n",
      "Requirement already satisfied: six in c:\\users\\rahul tamhankar\\anaconda3\\lib\\site-packages (from pipwin) (1.16.0)\n",
      "Requirement already satisfied: docopt in c:\\users\\rahul tamhankar\\anaconda3\\lib\\site-packages (from pipwin) (0.6.2)\n",
      "Requirement already satisfied: packaging in c:\\users\\rahul tamhankar\\anaconda3\\lib\\site-packages (from pipwin) (21.0)\n",
      "Requirement already satisfied: requests in c:\\users\\rahul tamhankar\\anaconda3\\lib\\site-packages (from pipwin) (2.26.0)\n",
      "Requirement already satisfied: js2py in c:\\users\\rahul tamhankar\\anaconda3\\lib\\site-packages (from pipwin) (0.74)\n",
      "Requirement already satisfied: pySmartDL>=1.3.1 in c:\\users\\rahul tamhankar\\anaconda3\\lib\\site-packages (from pipwin) (1.3.4)\n",
      "Requirement already satisfied: beautifulsoup4>=4.9.0 in c:\\users\\rahul tamhankar\\anaconda3\\lib\\site-packages (from pipwin) (4.10.0)\n",
      "Requirement already satisfied: soupsieve>1.2 in c:\\users\\rahul tamhankar\\anaconda3\\lib\\site-packages (from beautifulsoup4>=4.9.0->pipwin) (2.2.1)\n",
      "Requirement already satisfied: tzlocal>=1.2 in c:\\users\\rahul tamhankar\\anaconda3\\lib\\site-packages (from js2py->pipwin) (4.2)\n",
      "Requirement already satisfied: pyjsparser>=2.5.1 in c:\\users\\rahul tamhankar\\anaconda3\\lib\\site-packages (from js2py->pipwin) (2.7.1)\n",
      "Requirement already satisfied: pytz-deprecation-shim in c:\\users\\rahul tamhankar\\anaconda3\\lib\\site-packages (from tzlocal>=1.2->js2py->pipwin) (0.1.0.post0)\n",
      "Requirement already satisfied: tzdata in c:\\users\\rahul tamhankar\\anaconda3\\lib\\site-packages (from tzlocal>=1.2->js2py->pipwin) (2022.7)\n",
      "Requirement already satisfied: pyparsing>=2.0.2 in c:\\users\\rahul tamhankar\\anaconda3\\lib\\site-packages (from packaging->pipwin) (3.0.4)\n",
      "Requirement already satisfied: certifi>=2017.4.17 in c:\\users\\rahul tamhankar\\anaconda3\\lib\\site-packages (from requests->pipwin) (2021.10.8)\n",
      "Requirement already satisfied: urllib3<1.27,>=1.21.1 in c:\\users\\rahul tamhankar\\anaconda3\\lib\\site-packages (from requests->pipwin) (1.26.7)\n",
      "Requirement already satisfied: idna<4,>=2.5 in c:\\users\\rahul tamhankar\\anaconda3\\lib\\site-packages (from requests->pipwin) (3.2)\n",
      "Requirement already satisfied: charset-normalizer~=2.0.0 in c:\\users\\rahul tamhankar\\anaconda3\\lib\\site-packages (from requests->pipwin) (2.0.4)\n",
      "Requirement already satisfied: pyaudio in c:\\users\\rahul tamhankar\\anaconda3\\lib\\site-packages (0.2.13)\n"
     ]
    }
   ],
   "source": [
    "!pip install pipwin\n",
    "!pip install pyaudio"
   ]
  },
  {
   "cell_type": "code",
   "execution_count": null,
   "id": "d1429a8c",
   "metadata": {},
   "outputs": [],
   "source": [
    "#!python -m speech_recognition"
   ]
  },
  {
   "cell_type": "code",
   "execution_count": 11,
   "id": "024580e1",
   "metadata": {},
   "outputs": [],
   "source": [
    "mc = spr.Microphone()"
   ]
  },
  {
   "cell_type": "code",
   "execution_count": 12,
   "id": "daaa861e",
   "metadata": {},
   "outputs": [],
   "source": [
    "with mc as source:\n",
    "    audio = recogizer.listen(source)\n"
   ]
  },
  {
   "cell_type": "code",
   "execution_count": 13,
   "id": "a0db9a1b",
   "metadata": {},
   "outputs": [
    {
     "name": "stdout",
     "output_type": "stream",
     "text": [
      "result2:\n",
      "{   'alternative': [   {   'confidence': 0.88687539,\n",
      "                           'transcript': 'this is my project'}],\n",
      "    'final': True}\n"
     ]
    },
    {
     "data": {
      "text/plain": [
       "'this is my project'"
      ]
     },
     "execution_count": 13,
     "metadata": {},
     "output_type": "execute_result"
    }
   ],
   "source": [
    "recogizer.recognize_google(audio)"
   ]
  },
  {
   "cell_type": "code",
   "execution_count": 72,
   "id": "7fc5d425",
   "metadata": {},
   "outputs": [
    {
     "name": "stdout",
     "output_type": "stream",
     "text": [
      "Requirement already satisfied: pafy in c:\\users\\rahul tamhankar\\anaconda3\\lib\\site-packages (0.5.5)\n",
      "Requirement already satisfied: python-vlc in c:\\users\\rahul tamhankar\\anaconda3\\lib\\site-packages (3.0.18121)\n",
      "Requirement already satisfied: beautifulsoup4 in c:\\users\\rahul tamhankar\\anaconda3\\lib\\site-packages (4.10.0)\n",
      "Requirement already satisfied: soupsieve>1.2 in c:\\users\\rahul tamhankar\\anaconda3\\lib\\site-packages (from beautifulsoup4) (2.2.1)\n",
      "Requirement already satisfied: youtube-dl in c:\\users\\rahul tamhankar\\anaconda3\\lib\\site-packages (2021.12.17)\n"
     ]
    }
   ],
   "source": [
    "!pip install pafy\n",
    "#!pip install python-vlc\n",
    "!pip install beautifulsoup4\n",
    "!pip install youtube-dl"
   ]
  },
  {
   "cell_type": "code",
   "execution_count": 14,
   "id": "4179a4cf",
   "metadata": {},
   "outputs": [
    {
     "name": "stdout",
     "output_type": "stream",
     "text": [
      "Say something to search on YouTube\n",
      "----------------------------\n",
      "You can speak now\n",
      "result2:\n",
      "{   'alternative': [   {   'confidence': 0.88687539,\n",
      "                           'transcript': 'top Coldplay songs'}],\n",
      "    'final': True}\n",
      "Searching for the video(s)...\n",
      "result2:\n",
      "{   'alternative': [   {   'confidence': 0.88687539,\n",
      "                           'transcript': 'top Coldplay songs'}],\n",
      "    'final': True}\n",
      "top Coldplay songs\n"
     ]
    }
   ],
   "source": [
    "#Import Necessary Libraries\n",
    "import speech_recognition as spr\n",
    "import webbrowser as wb\n",
    "import pafy\n",
    "#import vlc\n",
    "import urllib.request\n",
    "from bs4 import BeautifulSoup\n",
    "import time\n",
    "#Create an empty list to store all the video URLs from the youtube.com page\n",
    "linklist  = []\n",
    "\n",
    "#Create Recognizer() class objects called recog1 and recog2\n",
    "recog1 = spr.Recognizer()\n",
    "recog2 = spr.Recognizer()\n",
    "\n",
    "#Create microphone instance with device microphone chosen whose index value is 0\n",
    "mc = spr.Microphone(device_index=0)\n",
    "\n",
    "#Capture voice\n",
    "with mc as source:\n",
    "    print(\"Say something to search on YouTube\")\n",
    "    print(\"----------------------------\")\n",
    "    print(\"You can speak now\")\n",
    "    audio = recog1.listen(source)\n",
    "\n",
    "\n",
    "#Based on speech, open youtube search page in a browser, get the first video link and play it in VLC media player\n",
    "if recog1.recognize_google(audio)!='':\n",
    "    recog1 = spr.Recognizer()\n",
    "    url = 'https://www.youtube.com/results?search_query='\n",
    "    with mc as source:\n",
    "        print('Searching for the video(s)...')\n",
    "        \n",
    "        try:\n",
    "            get_keyword = recog1.recognize_google(audio)\n",
    "            print(get_keyword)\n",
    "            wb.get().open_new(url+get_keyword)\n",
    "            \n",
    "        except spr.UnknownValueError:\n",
    "            print(\"Unable to understand the input\")\n",
    "        except spr.RequestError as e:\n",
    "            print(\"Unable to provide required output\".format(e))"
   ]
  },
  {
   "cell_type": "code",
   "execution_count": null,
   "id": "f6bc934d",
   "metadata": {},
   "outputs": [],
   "source": []
  }
 ],
 "metadata": {
  "kernelspec": {
   "display_name": "Python 3 (ipykernel)",
   "language": "python",
   "name": "python3"
  },
  "language_info": {
   "codemirror_mode": {
    "name": "ipython",
    "version": 3
   },
   "file_extension": ".py",
   "mimetype": "text/x-python",
   "name": "python",
   "nbconvert_exporter": "python",
   "pygments_lexer": "ipython3",
   "version": "3.9.7"
  }
 },
 "nbformat": 4,
 "nbformat_minor": 5
}
